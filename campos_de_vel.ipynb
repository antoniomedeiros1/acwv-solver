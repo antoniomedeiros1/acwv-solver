{
 "cells": [
  {
   "cell_type": "markdown",
   "metadata": {
    "id": "RbWPu44Yim3h"
   },
   "source": [
    "# Campos de velocidades\n",
    "---\n",
    "Alguns exemplos de campos de velocidade. \n"
   ]
  },
  {
   "cell_type": "code",
   "execution_count": 4,
   "metadata": {
    "id": "0pc0pRhbhm-d"
   },
   "outputs": [],
   "source": [
    "import numpy as np\n",
    "from matplotlib import pyplot as plt\n",
    "plt.style.use(\"ggplot\")\n",
    "\n",
    "X = 3000     ## distancia em metros\n",
    "Z = 3000     ## profundidade em metros\n",
    "T = 2        ## tempo total em segundos\n",
    "\n",
    "dx = 10      ## largura da malha\n",
    "dz = dx      ## largura da malha\n",
    "dt = 0.00025 ## passo no tempo\n",
    "\n",
    "Nx = int(X/dx)    ## numero de colunas\n",
    "Nz = int(Z/dz)    ## numero de linhas\n",
    "\n",
    "fpico = 40   ## frequencia de pico em Hz\n",
    "xs = 1500    ## posicao da fonte na direcao x em metros\n",
    "zs = 250     ## posicao da fonte na direcao z em metros\n",
    "\n",
    "vel = np.zeros((Nz, Nx), int) ## matriz de velocidades"
   ]
  },
  {
   "cell_type": "code",
   "execution_count": 5,
   "metadata": {},
   "outputs": [],
   "source": [
    "def modelo_planos_paralelos(vel):\n",
    "    \n",
    "    for i in range(Nx):\n",
    "    \n",
    "        for j in range(int(Nz/3)):\n",
    "            vel[j][i] = 1500\n",
    "\n",
    "        for j in range(int(Nz/3), int(2*Nz/3)):\n",
    "            vel[j][i] = 2000\n",
    "\n",
    "        for j in range(int(2*Nz/3), Nz):\n",
    "            vel[j][i] = 3000\n",
    "\n",
    "    return vel\n",
    "\n",
    "def modelo_semicirculo(vel):\n",
    "    \n",
    "    for i in range(Nx):\n",
    "        for j in range(Nz):\n",
    "\n",
    "            raio = Nx/2\n",
    "            circulo = -np.sqrt((raio**2)-(i - raio)**2) + Nz\n",
    "\n",
    "            if j < Nz/3:\n",
    "                vel[j][i] = 1500\n",
    "\n",
    "            elif j < circulo and j >= Nz/3:\n",
    "                vel[j][i] = 2000\n",
    "\n",
    "            else:\n",
    "                vel[j][i] = 3000\n",
    "    \n",
    "    return vel\n",
    "\n",
    "def modelo_camada_dobrada(vel):\n",
    "    \n",
    "    raio = Nz/2;\n",
    "    \n",
    "    for i in range(Nx):\n",
    "\n",
    "        if i < raio:\n",
    "            area = np.sqrt(raio**2 - i**2) + Nz/2\n",
    "        else:\n",
    "            area = -np.sqrt(raio**2 - (i - Nx)**2) + Nz/2\n",
    "\n",
    "        for j in range(Nz):\n",
    "\n",
    "            if j < area:\n",
    "                vel[j][i] = 2500\n",
    "\n",
    "            else:\n",
    "                vel[j][i] = 3500\n",
    "    \n",
    "    return vel\n",
    "\n",
    "def modelo_reservatorio(vel):\n",
    "    \n",
    "    me = 70\n",
    "\n",
    "    for i in range(Nx):\n",
    "        for j in range(Nz):\n",
    "\n",
    "            y = (8*me**3)/(i**2 + 4*me**2) ## regiao do reservatorio\n",
    "\n",
    "            if j <= y:\n",
    "                vel[j][i] = 1500\n",
    "            elif j > y and j < me:\n",
    "                vel[j][i] = 2000\n",
    "            elif j >= me and j < y + 50 and j < 147:\n",
    "                vel[j][i] = 2500\n",
    "            elif j >= 147 and j < y + 50:\n",
    "                vel[j][i] = 3000\n",
    "            elif j >= y + 50 and j < 230:\n",
    "                vel[j][i] = 3500\n",
    "            else:\n",
    "                vel[j][i] = 4000\n",
    "                \n",
    "    return vel\n",
    "        \n",
    "def visualizar_campos(vel):\n",
    "    \n",
    "    plt.figure(figsize=(7, 7))\n",
    "    im = plt.imshow(vel, cmap='viridis')\n",
    "    plt.colorbar(im)\n",
    "    plt.grid(False)\n",
    "    plt.show()\n",
    "\n",
    "    return\n",
    "\n",
    "def salva_arquivo(nome_do_arquivo, X, Z, T, dx, dz, dt, fpico, xs, zs, vel):\n",
    "\n",
    "    file = open(nome_do_arquivo, \"w\")\n",
    "    \n",
    "    file.write(\"{} {} {} {} {} {} {} {} {}\\n\".format(X, Z, T, dx, dz, dt, fpico, xs, zs))\n",
    "    \n",
    "    for j in vel:\n",
    "        for i in j:\n",
    "            file.write(\"{} \".format(i))\n",
    "        \n",
    "    file.close()\n",
    "    \n",
    "    return\n"
   ]
  },
  {
   "cell_type": "code",
   "execution_count": 15,
   "metadata": {},
   "outputs": [],
   "source": [
    "def slit(vel):\n",
    "    \n",
    "    mid_x = int(len(vel[0])/2)\n",
    "    mid_y = int(len(vel)/2)\n",
    "    \n",
    "    thickness = 10\n",
    "    \n",
    "    for i in range(0, len(vel[0])):\n",
    "        for j in range(0, len(vel)):\n",
    "            \n",
    "            if j in range(mid_y - thickness, mid_y + thickness) and \\\n",
    "               i not in range(mid_x - thickness, mid_x + thickness):\n",
    "                \n",
    "                vel[j][i] = 0\n",
    "            \n",
    "            else:\n",
    "                \n",
    "                vel[j][i] = 2000\n",
    "                "
   ]
  },
  {
   "cell_type": "code",
   "execution_count": 29,
   "metadata": {},
   "outputs": [
    {
     "data": {
      "image/png": "[encoded data removed]",
      "text/plain": [
       "<Figure size 504x504 with 2 Axes>"
      ]
     },
     "metadata": {},
     "output_type": "display_data"
    }
   ],
   "source": [
    "slit(vel)\n",
    "visualizar_campos(vel)\n",
    "salva_arquivo(\"slit.txt\", X, Z, T, dx, dz, dt, fpico, xs, zs, vel)"
   ]
  },
  {
   "cell_type": "code",
   "execution_count": 27,
   "metadata": {},
   "outputs": [],
   "source": [
    "def double_slit(vel):\n",
    "    Nx = len(vel[0])\n",
    "    Nz = len(vel)\n",
    "    thickness = 10\n",
    "    for i in range(0, Nx):\n",
    "        for j in range(0, Nz):\n",
    "            if j in range(int(Nz/2) - thickness, int(Nz/2) + thickness) and \\\n",
    "               (i not in range(int(Nx/3) - thickness, int(Nx/3) + thickness) and \\\n",
    "                i not in range(int(2*Nx/3) - thickness, int(2*Nx/3) + thickness)):\n",
    "                vel[j][i] = 0\n",
    "            else:\n",
    "                vel[j][i] = 2000\n",
    "                    "
   ]
  },
  {
   "cell_type": "code",
   "execution_count": 30,
   "metadata": {},
   "outputs": [
    {
     "data": {
      "image/png": "[encoded data removed]",
      "text/plain": [
       "<Figure size 504x504 with 2 Axes>"
      ]
     },
     "metadata": {},
     "output_type": "display_data"
    }
   ],
   "source": [
    "double_slit(vel)\n",
    "visualizar_campos(vel)\n",
    "salva_arquivo(\"double_slit.txt\", X, Z, T, dx, dz, dt, fpico, xs, zs, vel)"
   ]
  }
 ],
 "metadata": {
  "colab": {
   "collapsed_sections": [],
   "name": "campos-de-vel.ipynb",
   "provenance": []
  },
  "kernelspec": {
   "display_name": "Python 3",
   "language": "python",
   "name": "python3"
  },
  "language_info": {
   "codemirror_mode": {
    "name": "ipython",
    "version": 3
   },
   "file_extension": ".py",
   "mimetype": "text/x-python",
   "name": "python",
   "nbconvert_exporter": "python",
   "pygments_lexer": "ipython3",
   "version": "3.8.8"
  }
 },
 "nbformat": 4,
 "nbformat_minor": 1
}
